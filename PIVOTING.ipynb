{
  "nbformat": 4,
  "nbformat_minor": 0,
  "metadata": {
    "colab": {
      "name": "20_11_2020_2048046_P8.ipynb",
      "provenance": [],
      "collapsed_sections": []
    },
    "kernelspec": {
      "name": "python3",
      "display_name": "Python 3"
    }
  },
  "cells": [
    {
      "cell_type": "markdown",
      "metadata": {
        "id": "wt0fyX15qAXp"
      },
      "source": [
        "<H3><B>NAME:</B>R AKHILANDESHWARI<BR>\n",
        "<B>REG NO:</B> 2048046<BR>\n",
        "<B>CONCEPTS:</B> pivot(), pivot_table(),query()</H3><BR>\n",
        "\n"
      ]
    },
    {
      "cell_type": "markdown",
      "metadata": {
        "id": "2tNGihmLusZH"
      },
      "source": [
        "<b><h2><u><center>ANALYSIS OF DATA</u></center></b></h2>\n"
      ]
    },
    {
      "cell_type": "code",
      "metadata": {
        "id": "bmit3x-_pWYJ"
      },
      "source": [
        "import pandas as pd\n",
        "import numpy as np\n",
        "import seaborn as sns\n",
        "import matplotlib.pyplot as plt\n",
        "%matplotlib inline"
      ],
      "execution_count": null,
      "outputs": []
    },
    {
      "cell_type": "code",
      "metadata": {
        "colab": {
          "base_uri": "https://localhost:8080/",
          "height": 204
        },
        "id": "rJmuVEOMt5IQ",
        "outputId": "92dc380c-f891-4d13-da03-7b2155126207"
      },
      "source": [
        "data=pd.read_excel('/content/SuperMart_PivotTable.xlsx')\n",
        "data.head()"
      ],
      "execution_count": null,
      "outputs": [
        {
          "output_type": "execute_result",
          "data": {
            "text/html": [
              "<div>\n",
              "<style scoped>\n",
              "    .dataframe tbody tr th:only-of-type {\n",
              "        vertical-align: middle;\n",
              "    }\n",
              "\n",
              "    .dataframe tbody tr th {\n",
              "        vertical-align: top;\n",
              "    }\n",
              "\n",
              "    .dataframe thead th {\n",
              "        text-align: right;\n",
              "    }\n",
              "</style>\n",
              "<table border=\"1\" class=\"dataframe\">\n",
              "  <thead>\n",
              "    <tr style=\"text-align: right;\">\n",
              "      <th></th>\n",
              "      <th>Customer Name</th>\n",
              "      <th>Segment</th>\n",
              "      <th>City</th>\n",
              "      <th>State</th>\n",
              "      <th>Category</th>\n",
              "      <th>Sub-Category</th>\n",
              "      <th>Sales_in_M$</th>\n",
              "      <th>Qty</th>\n",
              "    </tr>\n",
              "  </thead>\n",
              "  <tbody>\n",
              "    <tr>\n",
              "      <th>0</th>\n",
              "      <td>Claire Gute</td>\n",
              "      <td>Consumer</td>\n",
              "      <td>Henderson</td>\n",
              "      <td>Kentucky</td>\n",
              "      <td>Furniture</td>\n",
              "      <td>Bookcases</td>\n",
              "      <td>261.9600</td>\n",
              "      <td>452</td>\n",
              "    </tr>\n",
              "    <tr>\n",
              "      <th>1</th>\n",
              "      <td>Claire Gute</td>\n",
              "      <td>Consumer</td>\n",
              "      <td>Henderson</td>\n",
              "      <td>Kentucky</td>\n",
              "      <td>Furniture</td>\n",
              "      <td>Chairs</td>\n",
              "      <td>731.9400</td>\n",
              "      <td>19356</td>\n",
              "    </tr>\n",
              "    <tr>\n",
              "      <th>2</th>\n",
              "      <td>Darrin Van Huff</td>\n",
              "      <td>Corporate</td>\n",
              "      <td>Los Angeles</td>\n",
              "      <td>California</td>\n",
              "      <td>Office Supplies</td>\n",
              "      <td>Labels</td>\n",
              "      <td>14.6200</td>\n",
              "      <td>6986</td>\n",
              "    </tr>\n",
              "    <tr>\n",
              "      <th>3</th>\n",
              "      <td>Sean O'Donnell</td>\n",
              "      <td>Consumer</td>\n",
              "      <td>Fort Lauderdale</td>\n",
              "      <td>Florida</td>\n",
              "      <td>Furniture</td>\n",
              "      <td>Tables</td>\n",
              "      <td>957.5775</td>\n",
              "      <td>7554</td>\n",
              "    </tr>\n",
              "    <tr>\n",
              "      <th>4</th>\n",
              "      <td>Sean O'Donnell</td>\n",
              "      <td>Consumer</td>\n",
              "      <td>Fort Lauderdale</td>\n",
              "      <td>Florida</td>\n",
              "      <td>Office Supplies</td>\n",
              "      <td>Storage</td>\n",
              "      <td>22.3680</td>\n",
              "      <td>18992</td>\n",
              "    </tr>\n",
              "  </tbody>\n",
              "</table>\n",
              "</div>"
            ],
            "text/plain": [
              "     Customer Name    Segment             City  ... Sub-Category Sales_in_M$    Qty\n",
              "0      Claire Gute   Consumer        Henderson  ...    Bookcases    261.9600    452\n",
              "1      Claire Gute   Consumer        Henderson  ...       Chairs    731.9400  19356\n",
              "2  Darrin Van Huff  Corporate      Los Angeles  ...       Labels     14.6200   6986\n",
              "3   Sean O'Donnell   Consumer  Fort Lauderdale  ...       Tables    957.5775   7554\n",
              "4   Sean O'Donnell   Consumer  Fort Lauderdale  ...      Storage     22.3680  18992\n",
              "\n",
              "[5 rows x 8 columns]"
            ]
          },
          "metadata": {
            "tags": []
          },
          "execution_count": 2
        }
      ]
    },
    {
      "cell_type": "code",
      "metadata": {
        "colab": {
          "base_uri": "https://localhost:8080/"
        },
        "id": "vC5tKtieu_0K",
        "outputId": "5375dec1-1e75-45c4-cdf4-ed3da321908a"
      },
      "source": [
        "data.columns"
      ],
      "execution_count": null,
      "outputs": [
        {
          "output_type": "execute_result",
          "data": {
            "text/plain": [
              "Index(['Customer Name', 'Segment', 'City', 'State', 'Category', 'Sub-Category',\n",
              "       'Sales_in_M$', 'Qty'],\n",
              "      dtype='object')"
            ]
          },
          "metadata": {
            "tags": []
          },
          "execution_count": 5
        }
      ]
    },
    {
      "cell_type": "code",
      "metadata": {
        "colab": {
          "base_uri": "https://localhost:8080/"
        },
        "id": "CD38oUVfvDpv",
        "outputId": "871462fb-0b34-41dd-91ca-f15c9530c8e0"
      },
      "source": [
        "data.info()"
      ],
      "execution_count": null,
      "outputs": [
        {
          "output_type": "stream",
          "text": [
            "<class 'pandas.core.frame.DataFrame'>\n",
            "RangeIndex: 9800 entries, 0 to 9799\n",
            "Data columns (total 8 columns):\n",
            " #   Column         Non-Null Count  Dtype  \n",
            "---  ------         --------------  -----  \n",
            " 0   Customer Name  9800 non-null   object \n",
            " 1   Segment        9800 non-null   object \n",
            " 2   City           9800 non-null   object \n",
            " 3   State          9800 non-null   object \n",
            " 4   Category       9800 non-null   object \n",
            " 5   Sub-Category   9800 non-null   object \n",
            " 6   Sales_in_M$    9800 non-null   float64\n",
            " 7   Qty            9800 non-null   int64  \n",
            "dtypes: float64(1), int64(1), object(6)\n",
            "memory usage: 612.6+ KB\n"
          ],
          "name": "stdout"
        }
      ]
    },
    {
      "cell_type": "code",
      "metadata": {
        "colab": {
          "base_uri": "https://localhost:8080/"
        },
        "id": "g_JQkC_I05Ni",
        "outputId": "34a446cc-0ad2-4831-c6b9-361c0ef81037"
      },
      "source": [
        "#To find whether the data contains duplicates or not\n",
        "data[data.duplicated()].sum()"
      ],
      "execution_count": null,
      "outputs": [
        {
          "output_type": "execute_result",
          "data": {
            "text/plain": [
              "Customer Name    0.0\n",
              "Segment          0.0\n",
              "City             0.0\n",
              "State            0.0\n",
              "Category         0.0\n",
              "Sub-Category     0.0\n",
              "Sales_in_M$      0.0\n",
              "Qty              0.0\n",
              "dtype: float64"
            ]
          },
          "metadata": {
            "tags": []
          },
          "execution_count": 7
        }
      ]
    },
    {
      "cell_type": "code",
      "metadata": {
        "colab": {
          "base_uri": "https://localhost:8080/"
        },
        "id": "995AzRTC1v4D",
        "outputId": "38cb6970-5deb-493e-b1da-b1d171f70654"
      },
      "source": [
        "#To find whether there are null values in the data\n",
        "data.isnull().sum()"
      ],
      "execution_count": null,
      "outputs": [
        {
          "output_type": "execute_result",
          "data": {
            "text/plain": [
              "Customer Name    0\n",
              "Segment          0\n",
              "City             0\n",
              "State            0\n",
              "Category         0\n",
              "Sub-Category     0\n",
              "Sales_in_M$      0\n",
              "Qty              0\n",
              "dtype: int64"
            ]
          },
          "metadata": {
            "tags": []
          },
          "execution_count": 8
        }
      ]
    },
    {
      "cell_type": "markdown",
      "metadata": {
        "id": "hRGw1ZPi1Z9m"
      },
      "source": [
        "There are no duplicate records and null values in the given data"
      ]
    },
    {
      "cell_type": "code",
      "metadata": {
        "colab": {
          "base_uri": "https://localhost:8080/",
          "height": 364
        },
        "id": "Kqk63LiJ4Vew",
        "outputId": "b92de450-9b28-4c58-eff7-94d76cb33543"
      },
      "source": [
        "#To find the dependencies between the variables\n",
        "c= data.corr()\n",
        "sns.heatmap(c,annot=True)\n",
        "c"
      ],
      "execution_count": null,
      "outputs": [
        {
          "output_type": "execute_result",
          "data": {
            "text/html": [
              "<div>\n",
              "<style scoped>\n",
              "    .dataframe tbody tr th:only-of-type {\n",
              "        vertical-align: middle;\n",
              "    }\n",
              "\n",
              "    .dataframe tbody tr th {\n",
              "        vertical-align: top;\n",
              "    }\n",
              "\n",
              "    .dataframe thead th {\n",
              "        text-align: right;\n",
              "    }\n",
              "</style>\n",
              "<table border=\"1\" class=\"dataframe\">\n",
              "  <thead>\n",
              "    <tr style=\"text-align: right;\">\n",
              "      <th></th>\n",
              "      <th>Sales_in_M$</th>\n",
              "      <th>Qty</th>\n",
              "    </tr>\n",
              "  </thead>\n",
              "  <tbody>\n",
              "    <tr>\n",
              "      <th>Sales_in_M$</th>\n",
              "      <td>1.000000</td>\n",
              "      <td>0.019416</td>\n",
              "    </tr>\n",
              "    <tr>\n",
              "      <th>Qty</th>\n",
              "      <td>0.019416</td>\n",
              "      <td>1.000000</td>\n",
              "    </tr>\n",
              "  </tbody>\n",
              "</table>\n",
              "</div>"
            ],
            "text/plain": [
              "             Sales_in_M$       Qty\n",
              "Sales_in_M$     1.000000  0.019416\n",
              "Qty             0.019416  1.000000"
            ]
          },
          "metadata": {
            "tags": []
          },
          "execution_count": 9
        },
        {
          "output_type": "display_data",
          "data": {
            "image/png": "[encoded data removed]",
            "text/plain": [
              "<Figure size 432x288 with 2 Axes>"
            ]
          },
          "metadata": {
            "tags": [],
            "needs_background": "light"
          }
        }
      ]
    },
    {
      "cell_type": "markdown",
      "metadata": {
        "id": "-LZ_N0GG42Li"
      },
      "source": [
        "The dependency between the Sales_in_M$ and Qty is not highly positive correlated."
      ]
    },
    {
      "cell_type": "code",
      "metadata": {
        "colab": {
          "base_uri": "https://localhost:8080/"
        },
        "id": "WPog-3s58Of6",
        "outputId": "d6186f0d-bbcf-4204-daee-a3702d6d7c63"
      },
      "source": [
        "#To find the number of unique customers, cities and states that are including in the sales data  \n",
        "data.rename(columns = {'Customer Name':'Cust_Name'}, inplace = True) \n",
        "print(\"The Unique customers are: \",data.Cust_Name.nunique())\n",
        "print(\"The Number of cities targeted are : \",data.City.nunique())\n",
        "print(\"The Number of states targeted are: \",data.State.nunique())"
      ],
      "execution_count": null,
      "outputs": [
        {
          "output_type": "stream",
          "text": [
            "The Unique customers are:  793\n",
            "The Number of cities targeted are :  529\n",
            "The Number of states targeted are:  49\n"
          ],
          "name": "stdout"
        }
      ]
    },
    {
      "cell_type": "markdown",
      "metadata": {
        "id": "El4SFgtQt0bD"
      },
      "source": [
        "<b><h2><u><center>PIVOT TABLES</u></center></b></h2>\n"
      ]
    },
    {
      "cell_type": "code",
      "metadata": {
        "colab": {
          "base_uri": "https://localhost:8080/",
          "height": 235
        },
        "id": "Efv4FORBAkyP",
        "outputId": "eb7b6355-e027-4f9c-d0f1-e50c5a78be7a"
      },
      "source": [
        "Segment_Cust=pd.pivot_table(data,index=['Segment','Cust_Name'])\n",
        "Segment_Cust.head()"
      ],
      "execution_count": null,
      "outputs": [
        {
          "output_type": "execute_result",
          "data": {
            "text/html": [
              "<div>\n",
              "<style scoped>\n",
              "    .dataframe tbody tr th:only-of-type {\n",
              "        vertical-align: middle;\n",
              "    }\n",
              "\n",
              "    .dataframe tbody tr th {\n",
              "        vertical-align: top;\n",
              "    }\n",
              "\n",
              "    .dataframe thead th {\n",
              "        text-align: right;\n",
              "    }\n",
              "</style>\n",
              "<table border=\"1\" class=\"dataframe\">\n",
              "  <thead>\n",
              "    <tr style=\"text-align: right;\">\n",
              "      <th></th>\n",
              "      <th></th>\n",
              "      <th>Qty</th>\n",
              "      <th>Sales_in_M$</th>\n",
              "    </tr>\n",
              "    <tr>\n",
              "      <th>Segment</th>\n",
              "      <th>Cust_Name</th>\n",
              "      <th></th>\n",
              "      <th></th>\n",
              "    </tr>\n",
              "  </thead>\n",
              "  <tbody>\n",
              "    <tr>\n",
              "      <th rowspan=\"5\" valign=\"top\">Consumer</th>\n",
              "      <th>Aaron Bergman</th>\n",
              "      <td>7900.166667</td>\n",
              "      <td>147.692667</td>\n",
              "    </tr>\n",
              "    <tr>\n",
              "      <th>Adam Shillingsburg</th>\n",
              "      <td>11204.000000</td>\n",
              "      <td>130.212400</td>\n",
              "    </tr>\n",
              "    <tr>\n",
              "      <th>Adrian Barton</th>\n",
              "      <td>10509.600000</td>\n",
              "      <td>723.678550</td>\n",
              "    </tr>\n",
              "    <tr>\n",
              "      <th>Aimee Bixby</th>\n",
              "      <td>9594.500000</td>\n",
              "      <td>80.559167</td>\n",
              "    </tr>\n",
              "    <tr>\n",
              "      <th>Alan Barnes</th>\n",
              "      <td>8554.714286</td>\n",
              "      <td>79.559857</td>\n",
              "    </tr>\n",
              "  </tbody>\n",
              "</table>\n",
              "</div>"
            ],
            "text/plain": [
              "                                      Qty  Sales_in_M$\n",
              "Segment  Cust_Name                                    \n",
              "Consumer Aaron Bergman        7900.166667   147.692667\n",
              "         Adam Shillingsburg  11204.000000   130.212400\n",
              "         Adrian Barton       10509.600000   723.678550\n",
              "         Aimee Bixby          9594.500000    80.559167\n",
              "         Alan Barnes          8554.714286    79.559857"
            ]
          },
          "metadata": {
            "tags": []
          },
          "execution_count": 32
        }
      ]
    },
    {
      "cell_type": "markdown",
      "metadata": {
        "id": "Q8-hf5P9tM9j"
      },
      "source": [
        "I have gathered the data based on the index Segment and Cust_Name"
      ]
    },
    {
      "cell_type": "code",
      "metadata": {
        "id": "2XXl_rnbBe39",
        "colab": {
          "base_uri": "https://localhost:8080/",
          "height": 235
        },
        "outputId": "5fd40ef0-2421-4408-f785-3a79d3da27ae"
      },
      "source": [
        "Cate_SubCate=pd.pivot_table(data,index=['Category', 'Sub-Category'],aggfunc={\"Qty\":len,\"Sales_in_M$\":np.sum})\n",
        "Cate_SubCate.head()"
      ],
      "execution_count": null,
      "outputs": [
        {
          "output_type": "execute_result",
          "data": {
            "text/html": [
              "<div>\n",
              "<style scoped>\n",
              "    .dataframe tbody tr th:only-of-type {\n",
              "        vertical-align: middle;\n",
              "    }\n",
              "\n",
              "    .dataframe tbody tr th {\n",
              "        vertical-align: top;\n",
              "    }\n",
              "\n",
              "    .dataframe thead th {\n",
              "        text-align: right;\n",
              "    }\n",
              "</style>\n",
              "<table border=\"1\" class=\"dataframe\">\n",
              "  <thead>\n",
              "    <tr style=\"text-align: right;\">\n",
              "      <th></th>\n",
              "      <th></th>\n",
              "      <th>Qty</th>\n",
              "      <th>Sales_in_M$</th>\n",
              "    </tr>\n",
              "    <tr>\n",
              "      <th>Category</th>\n",
              "      <th>Sub-Category</th>\n",
              "      <th></th>\n",
              "      <th></th>\n",
              "    </tr>\n",
              "  </thead>\n",
              "  <tbody>\n",
              "    <tr>\n",
              "      <th rowspan=\"4\" valign=\"top\">Furniture</th>\n",
              "      <th>Bookcases</th>\n",
              "      <td>226</td>\n",
              "      <td>113813.1987</td>\n",
              "    </tr>\n",
              "    <tr>\n",
              "      <th>Chairs</th>\n",
              "      <td>607</td>\n",
              "      <td>322822.7310</td>\n",
              "    </tr>\n",
              "    <tr>\n",
              "      <th>Furnishings</th>\n",
              "      <td>931</td>\n",
              "      <td>89212.0180</td>\n",
              "    </tr>\n",
              "    <tr>\n",
              "      <th>Tables</th>\n",
              "      <td>314</td>\n",
              "      <td>202810.6280</td>\n",
              "    </tr>\n",
              "    <tr>\n",
              "      <th>Office Supplies</th>\n",
              "      <th>Appliances</th>\n",
              "      <td>459</td>\n",
              "      <td>104618.4030</td>\n",
              "    </tr>\n",
              "  </tbody>\n",
              "</table>\n",
              "</div>"
            ],
            "text/plain": [
              "                              Qty  Sales_in_M$\n",
              "Category        Sub-Category                  \n",
              "Furniture       Bookcases     226  113813.1987\n",
              "                Chairs        607  322822.7310\n",
              "                Furnishings   931   89212.0180\n",
              "                Tables        314  202810.6280\n",
              "Office Supplies Appliances    459  104618.4030"
            ]
          },
          "metadata": {
            "tags": []
          },
          "execution_count": 16
        }
      ]
    },
    {
      "cell_type": "markdown",
      "metadata": {
        "id": "TA4z-DFrtaDc"
      },
      "source": [
        "I have used aggregate functions on the Qty and Sales_in_M$ that are indexed based on the Category and Sub-Category."
      ]
    },
    {
      "cell_type": "code",
      "metadata": {
        "colab": {
          "base_uri": "https://localhost:8080/",
          "height": 228
        },
        "id": "bBa51Hg55zrQ",
        "outputId": "2bfb09b7-ad24-4244-d4ee-df8434ab1c47"
      },
      "source": [
        "City_Sales_Qty=pd.pivot_table(data,index=['City'],aggfunc=np.sum)\n",
        "City_Sales_Qty.head()"
      ],
      "execution_count": null,
      "outputs": [
        {
          "output_type": "execute_result",
          "data": {
            "text/html": [
              "<div>\n",
              "<style scoped>\n",
              "    .dataframe tbody tr th:only-of-type {\n",
              "        vertical-align: middle;\n",
              "    }\n",
              "\n",
              "    .dataframe tbody tr th {\n",
              "        vertical-align: top;\n",
              "    }\n",
              "\n",
              "    .dataframe thead th {\n",
              "        text-align: right;\n",
              "    }\n",
              "</style>\n",
              "<table border=\"1\" class=\"dataframe\">\n",
              "  <thead>\n",
              "    <tr style=\"text-align: right;\">\n",
              "      <th></th>\n",
              "      <th>Qty</th>\n",
              "      <th>Sales_in_M$</th>\n",
              "    </tr>\n",
              "    <tr>\n",
              "      <th>City</th>\n",
              "      <th></th>\n",
              "      <th></th>\n",
              "    </tr>\n",
              "  </thead>\n",
              "  <tbody>\n",
              "    <tr>\n",
              "      <th>Aberdeen</th>\n",
              "      <td>14925</td>\n",
              "      <td>25.500</td>\n",
              "    </tr>\n",
              "    <tr>\n",
              "      <th>Abilene</th>\n",
              "      <td>12347</td>\n",
              "      <td>1.392</td>\n",
              "    </tr>\n",
              "    <tr>\n",
              "      <th>Akron</th>\n",
              "      <td>187823</td>\n",
              "      <td>2724.244</td>\n",
              "    </tr>\n",
              "    <tr>\n",
              "      <th>Albuquerque</th>\n",
              "      <td>135393</td>\n",
              "      <td>2220.160</td>\n",
              "    </tr>\n",
              "    <tr>\n",
              "      <th>Alexandria</th>\n",
              "      <td>169060</td>\n",
              "      <td>5519.570</td>\n",
              "    </tr>\n",
              "  </tbody>\n",
              "</table>\n",
              "</div>"
            ],
            "text/plain": [
              "                Qty  Sales_in_M$\n",
              "City                            \n",
              "Aberdeen      14925       25.500\n",
              "Abilene       12347        1.392\n",
              "Akron        187823     2724.244\n",
              "Albuquerque  135393     2220.160\n",
              "Alexandria   169060     5519.570"
            ]
          },
          "metadata": {
            "tags": []
          },
          "execution_count": 38
        }
      ]
    },
    {
      "cell_type": "markdown",
      "metadata": {
        "id": "v4CKIEx3twaE"
      },
      "source": [
        "I have summarized the data based on the City"
      ]
    },
    {
      "cell_type": "code",
      "metadata": {
        "colab": {
          "base_uri": "https://localhost:8080/",
          "height": 228
        },
        "id": "BcC6G9-p_4ut",
        "outputId": "5d5f2cb3-68f1-4a2e-ce25-2e2bc1bd204b"
      },
      "source": [
        "State_City_Sales_Qty=pd.pivot_table(data,index=['State','City'],aggfunc={\"Qty\":len,\"Sales_in_M$\":np.sum})\n",
        "State_City_Sales_Qty.head()"
      ],
      "execution_count": null,
      "outputs": [
        {
          "output_type": "execute_result",
          "data": {
            "text/html": [
              "<div>\n",
              "<style scoped>\n",
              "    .dataframe tbody tr th:only-of-type {\n",
              "        vertical-align: middle;\n",
              "    }\n",
              "\n",
              "    .dataframe tbody tr th {\n",
              "        vertical-align: top;\n",
              "    }\n",
              "\n",
              "    .dataframe thead th {\n",
              "        text-align: right;\n",
              "    }\n",
              "</style>\n",
              "<table border=\"1\" class=\"dataframe\">\n",
              "  <thead>\n",
              "    <tr style=\"text-align: right;\">\n",
              "      <th></th>\n",
              "      <th></th>\n",
              "      <th>Qty</th>\n",
              "      <th>Sales_in_M$</th>\n",
              "    </tr>\n",
              "    <tr>\n",
              "      <th>State</th>\n",
              "      <th>City</th>\n",
              "      <th></th>\n",
              "      <th></th>\n",
              "    </tr>\n",
              "  </thead>\n",
              "  <tbody>\n",
              "    <tr>\n",
              "      <th rowspan=\"5\" valign=\"top\">Alabama</th>\n",
              "      <th>Auburn</th>\n",
              "      <td>6</td>\n",
              "      <td>1766.83</td>\n",
              "    </tr>\n",
              "    <tr>\n",
              "      <th>Decatur</th>\n",
              "      <td>13</td>\n",
              "      <td>3374.82</td>\n",
              "    </tr>\n",
              "    <tr>\n",
              "      <th>Florence</th>\n",
              "      <td>5</td>\n",
              "      <td>1997.35</td>\n",
              "    </tr>\n",
              "    <tr>\n",
              "      <th>Hoover</th>\n",
              "      <td>4</td>\n",
              "      <td>525.85</td>\n",
              "    </tr>\n",
              "    <tr>\n",
              "      <th>Huntsville</th>\n",
              "      <td>10</td>\n",
              "      <td>2484.37</td>\n",
              "    </tr>\n",
              "  </tbody>\n",
              "</table>\n",
              "</div>"
            ],
            "text/plain": [
              "                    Qty  Sales_in_M$\n",
              "State   City                        \n",
              "Alabama Auburn        6      1766.83\n",
              "        Decatur      13      3374.82\n",
              "        Florence      5      1997.35\n",
              "        Hoover        4       525.85\n",
              "        Huntsville   10      2484.37"
            ]
          },
          "metadata": {
            "tags": []
          },
          "execution_count": 44
        }
      ]
    },
    {
      "cell_type": "markdown",
      "metadata": {
        "id": "JjzPEy6st6Pk"
      },
      "source": [
        "Summarized the data, based on the City under the state by aggregating the Qty and Sales_in_M$."
      ]
    },
    {
      "cell_type": "markdown",
      "metadata": {
        "id": "fq1jcf9PuaD9"
      },
      "source": [
        "<b><h2><u><center>QUERYING</u></center></b></h2>\n"
      ]
    },
    {
      "cell_type": "code",
      "metadata": {
        "colab": {
          "base_uri": "https://localhost:8080/"
        },
        "id": "YwU0DwgRzcVB",
        "outputId": "07bc7213-e4a0-484f-cd23-9c11586ec431"
      },
      "source": [
        "data.columns =[column.replace(\"-\", \"_\") for column in data.columns]\n",
        "data.columns"
      ],
      "execution_count": null,
      "outputs": [
        {
          "output_type": "execute_result",
          "data": {
            "text/plain": [
              "Index(['Cust_Name', 'Segment', 'City', 'State', 'Category', 'Sub_Category',\n",
              "       'Sales_in_M$', 'Qty'],\n",
              "      dtype='object')"
            ]
          },
          "metadata": {
            "tags": []
          },
          "execution_count": 27
        }
      ]
    },
    {
      "cell_type": "markdown",
      "metadata": {
        "id": "7ur955YpuYud"
      },
      "source": [
        "I have replaced the whitespace with the underscore for the column value."
      ]
    },
    {
      "cell_type": "code",
      "metadata": {
        "colab": {
          "base_uri": "https://localhost:8080/"
        },
        "id": "MrKkjIB60E5Z",
        "outputId": "043e3b65-3eda-44e0-d747-30bc002a9bca"
      },
      "source": [
        "Corp=Segment_Cust.query('Segment==\"Corporate\"')\n",
        "print(\"The Corporate segment Data :\\n\",Corp.head())\n",
        "Tech=Cate_SubCate.query('Category==\"Technology\"')\n",
        "print(\"The Furniture Category objects a:\\n\",Tech.head())"
      ],
      "execution_count": null,
      "outputs": [
        {
          "output_type": "stream",
          "text": [
            "The Corporate segment Data :\n",
            "                                       Qty  Sales_in_M$\n",
            "Segment   Cust_Name                                   \n",
            "Corporate Aaron Hawkins      10896.545455   158.609091\n",
            "          Aaron Smayling      7277.900000   305.069200\n",
            "          Adam Hart          10491.450000   162.516850\n",
            "          Alan Haines         8264.125000   198.431500\n",
            "          Alan Schoenberger   9925.384615   327.752615\n",
            "The Furniture Category objects a:\n",
            "                          Qty  Sales_in_M$\n",
            "Category   Sub-Category                  \n",
            "Technology Accessories   756   164186.700\n",
            "           Copiers        66   146248.094\n",
            "           Machines      115   189238.631\n",
            "           Phones        876   327782.448\n"
          ],
          "name": "stdout"
        }
      ]
    },
    {
      "cell_type": "markdown",
      "metadata": {
        "id": "J1fLlW2QugNy"
      },
      "source": [
        "TO collect the details of Corporate Sales in Segment dataframe and Technology in sub-category dataframe, I have used the query() on the pivot tables Segment_Cust and Cate_SubCate that were created earlier."
      ]
    },
    {
      "cell_type": "markdown",
      "metadata": {
        "id": "aZHGiiH5x3DH"
      },
      "source": [
        "<CENTER><H2><B><U>GRAPHS</B></U><br>Plotted graphs using pivot()</CENTER></H2><BR>\n"
      ]
    },
    {
      "cell_type": "code",
      "metadata": {
        "colab": {
          "base_uri": "https://localhost:8080/",
          "height": 473
        },
        "id": "-pubgjDkQdip",
        "outputId": "88dbeb24-d4d6-4c36-c405-82e2c82d4262"
      },
      "source": [
        "Segm = data.groupby('Segment')[['Qty']].sum()\n",
        "print(Segm.sort_values(by='Qty', ascending=False),\"\\n\\n\\n\")\n",
        "\n",
        "#Pie plot\n",
        "Segm.plot.pie(subplots=True,autopct='%1.0f%%',figsize=(10,5))"
      ],
      "execution_count": null,
      "outputs": [
        {
          "output_type": "stream",
          "text": [
            "                  Qty\n",
            "Segment              \n",
            "Consumer     51675115\n",
            "Corporate    30061691\n",
            "Home Office  17543746 \n",
            "\n",
            "\n",
            "\n"
          ],
          "name": "stdout"
        },
        {
          "output_type": "execute_result",
          "data": {
            "text/plain": [
              "array([<matplotlib.axes._subplots.AxesSubplot object at 0x7f421f525b38>],\n",
              "      dtype=object)"
            ]
          },
          "metadata": {
            "tags": []
          },
          "execution_count": 85
        },
        {
          "output_type": "display_data",
          "data": {
            "image/png": "[encoded data removed]",
            "text/plain": [
              "<Figure size 720x360 with 1 Axes>"
            ]
          },
          "metadata": {
            "tags": []
          }
        }
      ]
    },
    {
      "cell_type": "code",
      "metadata": {
        "colab": {
          "base_uri": "https://localhost:8080/",
          "height": 374
        },
        "id": "qY4G-xyfSsPI",
        "outputId": "d672a9d4-2b10-4679-8f6b-0cb3e296963a"
      },
      "source": [
        "#I have pivoted the table based on the \n",
        "data_segment=data.pivot(columns='Segment', values='Qty')\n",
        "data_segment.plot.hist(bins=100, figsize=(10,6), alpha=0.7)\n",
        "plt.gca().legend(loc='center left', bbox_to_anchor=(1, 0.5))\n",
        "plt.show()"
      ],
      "execution_count": null,
      "outputs": [
        {
          "output_type": "display_data",
          "data": {
            "image/png": "[encoded data removed]",
            "text/plain": [
              "<Figure size 720x432 with 1 Axes>"
            ]
          },
          "metadata": {
            "tags": [],
            "needs_background": "light"
          }
        }
      ]
    },
    {
      "cell_type": "code",
      "metadata": {
        "colab": {
          "base_uri": "https://localhost:8080/",
          "height": 473
        },
        "id": "iImyBJ5qPNI4",
        "outputId": "0b5e97ff-3b3f-4e65-8a82-967500e72123"
      },
      "source": [
        "cate = data.groupby('Category')[['Qty']].sum()\n",
        "print(cate.sort_values(by='Qty', ascending=False),\"\\n\\n\\n\")\n",
        "\n",
        "#Pie plot\n",
        "cate.plot.pie(subplots=True,autopct='%1.0f%%',figsize=(10,5))"
      ],
      "execution_count": null,
      "outputs": [
        {
          "output_type": "stream",
          "text": [
            "                      Qty\n",
            "Category                 \n",
            "Office Supplies  59145077\n",
            "Furniture        21498397\n",
            "Technology       18637078 \n",
            "\n",
            "\n",
            "\n"
          ],
          "name": "stdout"
        },
        {
          "output_type": "execute_result",
          "data": {
            "text/plain": [
              "array([<matplotlib.axes._subplots.AxesSubplot object at 0x7f422d62e048>],\n",
              "      dtype=object)"
            ]
          },
          "metadata": {
            "tags": []
          },
          "execution_count": 59
        },
        {
          "output_type": "display_data",
          "data": {
            "image/png": "[encoded data removed]",
            "text/plain": [
              "<Figure size 720x360 with 1 Axes>"
            ]
          },
          "metadata": {
            "tags": []
          }
        }
      ]
    },
    {
      "cell_type": "code",
      "metadata": {
        "colab": {
          "base_uri": "https://localhost:8080/",
          "height": 374
        },
        "id": "0WNHodaBYjMv",
        "outputId": "5e69cab5-5893-4c65-f4b9-16c5a641848f"
      },
      "source": [
        "data_Cate=data.pivot(columns='Category', values='Qty')\n",
        "data_Cate.plot.hist(bins=100, figsize=(10,6), alpha=0.7)\n",
        "plt.gca().legend(loc='center left', bbox_to_anchor=(1, 0.5))\n",
        "plt.show()"
      ],
      "execution_count": null,
      "outputs": [
        {
          "output_type": "display_data",
          "data": {
            "image/png": "[encoded data removed]",
            "text/plain": [
              "<Figure size 720x432 with 1 Axes>"
            ]
          },
          "metadata": {
            "tags": [],
            "needs_background": "light"
          }
        }
      ]
    },
    {
      "cell_type": "code",
      "metadata": {
        "colab": {
          "base_uri": "https://localhost:8080/",
          "height": 575
        },
        "id": "BnhrG1FYRo6E",
        "outputId": "33b5ecbc-9920-4a5c-cd66-ee80b11224ba"
      },
      "source": [
        "Sub_Cat = data.groupby('Sub_Category')[['Qty']].sum()\n",
        "\n",
        "#Pie plot\n",
        "Sub_Cat.plot.pie(subplots=True,autopct='%1.0f%%',figsize=(20,10))\n",
        "plt.gca().legend(loc='center left', bbox_to_anchor=(1.5, 0.5))\n",
        "plt.show()"
      ],
      "execution_count": null,
      "outputs": [
        {
          "output_type": "display_data",
          "data": {
            "image/png": "[encoded data removed]",
            "text/plain": [
              "<Figure size 1440x720 with 1 Axes>"
            ]
          },
          "metadata": {
            "tags": []
          }
        }
      ]
    },
    {
      "cell_type": "markdown",
      "metadata": {
        "id": "BKNg8x4cZDfh"
      },
      "source": [
        "<CENTER><H2><B><U>INFERENCE:</B></U></CENTER></H2><BR>\n",
        "\n",
        "<b>DATA ANALYSIS</B><BR>\n",
        "1. There are no duplicate records and null values in the given data.\n",
        "\n",
        "2. The dependency between the Sales_in_M$ and Qty is not highly positive correlated.\n",
        "\n",
        "3. The Unique customers are:  793\n",
        "\n",
        "4. The Number of cities targeted are :  529\n",
        "\n",
        "5. The Number of states targeted are:  49\n",
        "\n",
        "6. The Consumer Segment is more than Corporate, and the Corporate is more than the Home Office.\n",
        "\n",
        "7. In Category the office suply is more than Furnitures, and the furniture is more than Technology are in good sale.\n",
        "\n",
        "8. In Sub_Categories the Binders,Papers,Phones,Storage and furnishing are in good sale.\n",
        "\n",
        "<br><br>\n",
        "\n",
        "<b>DATA INTERPRETATION</B><BR>\n",
        "Based on the analysis, the Amazon CEO Mr. Jeff Bezos have to target the 793 consumers, with much focus on the consumer segment. Moreover, he have to increase his Office supply and FFurnitures Stock. And he need to market more on the Technology accessories.\n",
        "\n",
        "\n",
        "\n",
        "\n",
        "\n",
        "\n",
        "\n"
      ]
    }
  ]
}